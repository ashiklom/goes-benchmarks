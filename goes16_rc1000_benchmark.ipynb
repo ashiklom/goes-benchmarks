{
 "cells": [
  {
   "cell_type": "code",
   "execution_count": 1,
   "id": "2bcf5cd2-f9fa-44f6-b029-5265983c4ab9",
   "metadata": {
    "tags": []
   },
   "outputs": [],
   "source": [
    "from dask.distributed import Client, LocalCluster\n",
    "import dask.array as da\n",
    "import time\n",
    "import intake\n",
    "import csv\n",
    "import xarray as xr\n",
    "import numpy as np\n",
    "\n",
    "cluster = LocalCluster()\n",
    "client = Client(cluster)"
   ]
  },
  {
   "cell_type": "code",
   "execution_count": 2,
   "id": "5f285674-d1e2-4ce1-b343-5efb65dadd93",
   "metadata": {
    "tags": []
   },
   "outputs": [],
   "source": [
    "# Load the catalog and dataset\n",
    "cat = intake.open_catalog(\"/home/jovyan/efs/kerchunk-rc1000/result/reference.yaml\")"
   ]
  },
  {
   "cell_type": "code",
   "execution_count": 3,
   "id": "28cf0c94-54c0-40fa-ade2-3bfdc967a0ec",
   "metadata": {},
   "outputs": [
    {
     "name": "stdout",
     "output_type": "stream",
     "text": [
      "['data']\n"
     ]
    }
   ],
   "source": [
    "# type(cat['data'])\n",
    "print(list(cat.keys()))\n",
    "zarr_source = cat['data']"
   ]
  },
  {
   "cell_type": "code",
   "execution_count": null,
   "id": "02958085-5616-4717-a5d3-00a2f26c72a1",
   "metadata": {
    "tags": []
   },
   "outputs": [],
   "source": [
    "ds = zarr_source.read()\n",
    "rad = da.from_array(ds['Rad'], chunks='auto')\n",
    "mean_value = da.mean(rad)\n",
    "mean_result = mean_value.compute()\n",
    "print(mean_result)"
   ]
  },
  {
   "cell_type": "code",
   "execution_count": null,
   "id": "eebcb621-bb43-4686-b984-21ed3e695bd3",
   "metadata": {
    "tags": []
   },
   "outputs": [],
   "source": [
    "east1_source = cat[\"data\"]\n",
    "east1 = east1_source.to_dask()\n",
    "\n",
    "# Compute the mean of the 'Rad' variable\n",
    "mean_value = da.mean(east1['Rad']).compute()\n",
    "result = mean_value.compute()\n",
    "\n",
    "# Print the mean value\n",
    "print(mean_value)\n",
    "\n",
    "# close the client and cluster when done\n",
    "# client.close()\n",
    "# cluster.close()"
   ]
  },
  {
   "cell_type": "code",
   "execution_count": null,
   "id": "df1aabae-041a-4de3-8228-b321f7319521",
   "metadata": {
    "tags": []
   },
   "outputs": [],
   "source": [
    "import time\n",
    "import intake\n",
    "import csv\n",
    "import xarray as xr\n",
    "import numpy as np\n",
    "from dask.distributed import Client, LocalCluster\n",
    "cluster = LocalCluster()\n",
    "client = Client(cluster)"
   ]
  },
  {
   "cell_type": "code",
   "execution_count": 3,
   "id": "7398b274-382a-4e97-a413-d823d1b33520",
   "metadata": {},
   "outputs": [],
   "source": [
    "cat = intake.open_catalog(\"/efs/goes-kerchunked/catalog.yml\")\n",
    "print(\"Opening east1 from catalog\")\n",
    "east1 = cat[\"goes16_radc_east1\"].to_dask()"
   ]
  },
  {
   "cell_type": "code",
   "execution_count": null,
   "id": "ea0af807-1520-49da-bb5f-423430c5284f",
   "metadata": {},
   "outputs": [],
   "source": [
    "mean_value = np.mean(east1['Rad'])\n",
    "mean_value = mean_value.compute()\n",
    "print(mean_value)"
   ]
  },
  {
   "cell_type": "code",
   "execution_count": null,
   "id": "20c7cf23-897f-4038-ab2d-2d09401c7d90",
   "metadata": {},
   "outputs": [],
   "source": [
    "# val = east1['Rad'].mean()\n",
    "# val.values\n",
    "results = []\n",
    "i = 1\n",
    "for i in range(20):\n",
    "    # Confirm that I can just read values from both\n",
    "    t1 = time.time()\n",
    "    #e1val = east1[\"Rad\"].isel(t=3, x=500, y=500).values\n",
    "    #get the mean of Rad values across dataset\n",
    "    e1val_mean = east1['Rad'].mean().values\n",
    "    t2 = time.time()\n",
    "    elapsed_time = round((t2 - t1), 4) \n",
    "    print(e1val_mean)\n",
    "    print(f\"Time elapsed: {elapsed_time}\")\n",
    "\n",
    "    results.append(elapsed_time)\n",
    "\n",
    "for r in results:\n",
    "    #record benchmark data to csv \n",
    "    with open('goes16_radc_east1_benchmark.csv', 'w') as f:\n",
    "        writer = csv.writer(f)\n",
    "        writer.writerow([r])"
   ]
  },
  {
   "cell_type": "code",
   "execution_count": 6,
   "id": "347ee70d-072f-40f9-8b37-ca72bf8e4291",
   "metadata": {
    "tags": []
   },
   "outputs": [],
   "source": [
    "# print(\"Opening west2 from catalog\")\n",
    "# west2 = cat[\"goes16_radc_west2\"].to_dask()"
   ]
  },
  {
   "cell_type": "code",
   "execution_count": null,
   "id": "72c69727-09cc-4ed7-9dc5-e73ae6d5d40c",
   "metadata": {},
   "outputs": [],
   "source": [
    "# t1 = time.time()\n",
    "# w2val = west2[\"Rad\"].isel(t=3, x=500, y=500).values\n",
    "# t2 = time.time()\n",
    "# print(w2val)\n",
    "# print(f\"Time elapsed: {t2 - t1}\")"
   ]
  }
 ],
 "metadata": {
  "kernelspec": {
   "display_name": "Python 3 (ipykernel)",
   "language": "python",
   "name": "python3"
  },
  "language_info": {
   "codemirror_mode": {
    "name": "ipython",
    "version": 3
   },
   "file_extension": ".py",
   "mimetype": "text/x-python",
   "name": "python",
   "nbconvert_exporter": "python",
   "pygments_lexer": "ipython3",
   "version": "3.9.12"
  }
 },
 "nbformat": 4,
 "nbformat_minor": 5
}
