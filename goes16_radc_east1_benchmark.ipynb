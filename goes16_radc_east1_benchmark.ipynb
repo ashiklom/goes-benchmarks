{
 "cells": [
  {
   "cell_type": "raw",
   "id": "a5c34a60-85a0-4a8f-9068-eadf6428cef4",
   "metadata": {
    "tags": []
   },
   "source": [
    "# trying to compute mean // kernel dies when memory is used up -- no succesfull runs \n",
    "from dask.distributed import Client, LocalCluster\n",
    "import dask.array as da\n",
    "import intake\n",
    "import numpy as np\n",
    "\n",
    "# Start Dask client\n",
    "cluster = LocalCluster()\n",
    "client = Client(cluster)\n",
    "\n",
    "# Load the catalog and dataset\n",
    "cat = intake.open_catalog(\"/efs/goes-kerchunked/catalog.yml\")\n",
    "east1_source = cat[\"goes16_radc_east1\"]\n",
    "east1 = east1_source.to_dask()\n",
    "\n",
    "# Compute the mean of the 'Rad' variable\n",
    "#This test times out, \n",
    "mean_value = da.mean(east1['Rad']).compute()\n",
    "result = mean_value.compute()\n",
    "print(mean_value)\n",
    "\n",
    "# close the client and cluster when done\n",
    "client.close()\n",
    "cluster.close()"
   ]
  },
  {
   "cell_type": "code",
   "execution_count": 1,
   "id": "df1aabae-041a-4de3-8228-b321f7319521",
   "metadata": {
    "tags": []
   },
   "outputs": [
    {
     "name": "stderr",
     "output_type": "stream",
     "text": [
      "/srv/conda/envs/notebook/lib/python3.9/site-packages/distributed/node.py:177: UserWarning: Port 8787 is already in use.\n",
      "Perhaps you already have a cluster running?\n",
      "Hosting the HTTP server on port 46875 instead\n",
      "  warnings.warn(\n"
     ]
    }
   ],
   "source": [
    "import time\n",
    "import intake\n",
    "import csv\n",
    "import xarray as xr\n",
    "import numpy as np\n",
    "from dask.distributed import Client, LocalCluster\n",
    "cluster = LocalCluster()\n",
    "client = Client(cluster)"
   ]
  },
  {
   "cell_type": "code",
   "execution_count": 2,
   "id": "7398b274-382a-4e97-a413-d823d1b33520",
   "metadata": {},
   "outputs": [
    {
     "name": "stdout",
     "output_type": "stream",
     "text": [
      "Opening east1 from catalog\n"
     ]
    }
   ],
   "source": [
    "cat = intake.open_catalog(\"/efs/goes-kerchunked/catalog.yml\")\n",
    "print(\"Opening east1 from catalog\")\n",
    "east1 = cat[\"goes16_radc_east1\"].to_dask()"
   ]
  },
  {
   "cell_type": "code",
   "execution_count": null,
   "id": "ea0af807-1520-49da-bb5f-423430c5284f",
   "metadata": {},
   "outputs": [],
   "source": [
    "# mean_value = np.mean(east1['Rad'])\n",
    "# mean_value = mean_value.compute()\n",
    "# print(mean_value)"
   ]
  },
  {
   "cell_type": "code",
   "execution_count": null,
   "id": "20c7cf23-897f-4038-ab2d-2d09401c7d90",
   "metadata": {},
   "outputs": [],
   "source": [
    "# val = east1['Rad'].mean()\n",
    "# val.values\n",
    "results = []\n",
    "i = 1\n",
    "for i in range(10):\n",
    "    t1 = time.time()\n",
    "    e1val = east1[\"Rad\"].isel(t=3, x=500, y=500).values\n",
    "    # get the mean of Rad values across dataset --not funct. timing Rad reading at 500,500\n",
    "    # e1val_mean = east1['Rad'].mean().values\n",
    "    t2 = time.time()\n",
    "    elapsed_time = round((t2 - t1), 4) \n",
    "    print(e1val)\n",
    "    print(f\"Time elapsed: {elapsed_time}\")\n",
    "\n",
    "    results.append(elapsed_time)\n",
    "\n",
    "for r in results:\n",
    "    #record benchmark data to csv \n",
    "    with open('goes16_radc_east1_benchmark.csv', 'a') as f:\n",
    "        writer = csv.writer(f)\n",
    "        writer.writerow([r])"
   ]
  },
  {
   "cell_type": "code",
   "execution_count": 6,
   "id": "347ee70d-072f-40f9-8b37-ca72bf8e4291",
   "metadata": {
    "tags": []
   },
   "outputs": [],
   "source": [
    "# print(\"Opening west2 from catalog\")\n",
    "# west2 = cat[\"goes16_radc_west2\"].to_dask()"
   ]
  },
  {
   "cell_type": "code",
   "execution_count": null,
   "id": "72c69727-09cc-4ed7-9dc5-e73ae6d5d40c",
   "metadata": {},
   "outputs": [],
   "source": [
    "# t1 = time.time()\n",
    "# w2val = west2[\"Rad\"].isel(t=3, x=500, y=500).values\n",
    "# t2 = time.time()\n",
    "# print(w2val)\n",
    "# print(f\"Time elapsed: {t2 - t1}\")"
   ]
  }
 ],
 "metadata": {
  "kernelspec": {
   "display_name": "Python 3 (ipykernel)",
   "language": "python",
   "name": "python3"
  },
  "language_info": {
   "codemirror_mode": {
    "name": "ipython",
    "version": 3
   },
   "file_extension": ".py",
   "mimetype": "text/x-python",
   "name": "python",
   "nbconvert_exporter": "python",
   "pygments_lexer": "ipython3",
   "version": "3.9.12"
  }
 },
 "nbformat": 4,
 "nbformat_minor": 5
}
