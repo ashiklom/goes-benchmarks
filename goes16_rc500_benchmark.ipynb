{
 "cells": [
  {
   "cell_type": "code",
   "execution_count": 1,
   "id": "00e2fabb-1f51-4edc-bcb9-9cdeff14618c",
   "metadata": {
    "tags": []
   },
   "outputs": [
    {
     "data": {
      "application/vnd.jupyter.widget-view+json": {
       "model_id": "bd9ceaad43814bd8a97955577ba4edf6",
       "version_major": 2,
       "version_minor": 0
      },
      "text/plain": [
       "Tab(children=(HTML(value='<div class=\"jp-RenderedHTMLCommon jp-RenderedHTML jp-mod-trusted jp-OutputArea-outpu…"
      ]
     },
     "metadata": {},
     "output_type": "display_data"
    }
   ],
   "source": [
    "from dask.distributed import Client, LocalCluster\n",
    "cluster = LocalCluster()\n",
    "client = Client(cluster)\n",
    "cluster"
   ]
  },
  {
   "cell_type": "code",
   "execution_count": 10,
   "id": "a141593c-d3a5-4091-b8a2-20360ae23777",
   "metadata": {},
   "outputs": [
    {
     "data": {
      "text/plain": [
       "['data']"
      ]
     },
     "execution_count": 10,
     "metadata": {},
     "output_type": "execute_result"
    }
   ],
   "source": [
    "import time\n",
    "import intake\n",
    "\n",
    "#load catalog from yaml file\n",
    "cat = intake.open_catalog(\"/home/jovyan/efs/kerchunk-rc500/result/reference.yaml\")\n",
    "\n",
    "#check out what data source the catalog contains \n",
    "list(cat)"
   ]
  },
  {
   "cell_type": "code",
   "execution_count": 12,
   "id": "02b77fcc-1382-40b4-9b26-54af49902857",
   "metadata": {
    "tags": []
   },
   "outputs": [
    {
     "name": "stdout",
     "output_type": "stream",
     "text": [
      "Opening data from catalog\n"
     ]
    },
    {
     "data": {
      "application/yaml": "data:\n  args:\n    chunks: {}\n    consolidated: false\n    storage_options:\n      fo: ./efs/kerchunk-rc500/result/reference.json\n      remote_options:\n        anon: false\n      remote_protocol: s3\n      skip_instance_cache: true\n      target_options: {}\n      target_protocol: file\n    urlpath: reference://\n  description: ''\n  driver: intake_xarray.xzarr.ZarrSource\n  metadata:\n    catalog_dir: /home/jovyan/efs/kerchunk-rc500/result/\n",
      "text/plain": [
       "data:\n",
       "  args:\n",
       "    chunks: {}\n",
       "    consolidated: false\n",
       "    storage_options:\n",
       "      fo: ./efs/kerchunk-rc500/result/reference.json\n",
       "      remote_options:\n",
       "        anon: false\n",
       "      remote_protocol: s3\n",
       "      skip_instance_cache: true\n",
       "      target_options: {}\n",
       "      target_protocol: file\n",
       "    urlpath: reference://\n",
       "  description: ''\n",
       "  driver: intake_xarray.xzarr.ZarrSource\n",
       "  metadata:\n",
       "    catalog_dir: /home/jovyan/efs/kerchunk-rc500/result/\n"
      ]
     },
     "metadata": {
      "application/json": {
       "root": "data"
      }
     },
     "output_type": "display_data"
    }
   ],
   "source": [
    "print(\"Opening data from catalog\")\n",
    "data = cat[\"data\"]\n",
    "data"
   ]
  },
  {
   "cell_type": "code",
   "execution_count": 13,
   "id": "a048a550-46b2-480a-9c22-a0b81f193c08",
   "metadata": {},
   "outputs": [],
   "source": [
    "ddf = data.to_dask()\n",
    "#verify access to data \n",
    "#ddf"
   ]
  },
  {
   "cell_type": "code",
   "execution_count": 7,
   "id": "8fcdd93c-10b9-4112-8064-b37d4cbb2b92",
   "metadata": {
    "tags": []
   },
   "outputs": [
    {
     "data": {
      "text/plain": [
       "['DQF',\n",
       " 'Rad',\n",
       " 'algorithm_dynamic_input_data_container',\n",
       " 'algorithm_product_version_container',\n",
       " 'earth_sun_distance_anomaly_in_AU',\n",
       " 'esun',\n",
       " 'focal_plane_temperature_threshold_decreasing',\n",
       " 'focal_plane_temperature_threshold_exceeded_count',\n",
       " 'focal_plane_temperature_threshold_increasing',\n",
       " 'geospatial_lat_lon_extent',\n",
       " 'goes_imager_projection',\n",
       " 'kappa0',\n",
       " 'max_radiance_value_of_valid_pixels',\n",
       " 'maximum_focal_plane_temperature',\n",
       " 'mean_radiance_value_of_valid_pixels',\n",
       " 'min_radiance_value_of_valid_pixels',\n",
       " 'missing_pixel_count',\n",
       " 'nominal_satellite_height',\n",
       " 'nominal_satellite_subpoint_lat',\n",
       " 'nominal_satellite_subpoint_lon',\n",
       " 'percent_uncorrectable_L0_errors',\n",
       " 'planck_bc1',\n",
       " 'planck_bc2',\n",
       " 'planck_fk1',\n",
       " 'planck_fk2',\n",
       " 'processing_parm_version_container',\n",
       " 'saturated_pixel_count',\n",
       " 'star_id',\n",
       " 'std_dev_radiance_value_of_valid_pixels',\n",
       " 'time_bounds',\n",
       " 'undersaturated_pixel_count',\n",
       " 'valid_pixel_count',\n",
       " 'x_image_bounds',\n",
       " 'y_image_bounds',\n",
       " 'yaw_flip_flag']"
      ]
     },
     "execution_count": 7,
     "metadata": {},
     "output_type": "execute_result"
    }
   ],
   "source": [
    "#list ds vars \n",
    "#list(ddf)"
   ]
  },
  {
   "cell_type": "code",
   "execution_count": null,
   "id": "734b7376-5852-44d7-ae27-9ee6375152b5",
   "metadata": {
    "tags": []
   },
   "outputs": [],
   "source": [
    "# do min/max of \"Rad\" \n",
    "print(ddf[\"Rad\"].max().values) #kills daskworker? "
   ]
  },
  {
   "cell_type": "code",
   "execution_count": null,
   "id": "9a6cf777-291a-47b2-982e-37f2d9ec8185",
   "metadata": {},
   "outputs": [],
   "source": [
    "import dask.array as da\n",
    "da.max(ddf[\"Rad\"])\n",
    "ddf[\"Rad\"].isel(t=3, x=500, y=500)\n",
    "t1 = time.time()\n",
    "e1val = ddf[\"Rad\"].isel(t=3, x=500, y=500).values"
   ]
  },
  {
   "cell_type": "code",
   "execution_count": null,
   "id": "a487d17c-afb8-43f6-998d-34671e15df4a",
   "metadata": {},
   "outputs": [],
   "source": [
    "t2 = time.time()\n",
    "print(e1val)"
   ]
  },
  {
   "cell_type": "code",
   "execution_count": null,
   "id": "3cbb5d3d-6cc8-4e05-8842-da3443fe47df",
   "metadata": {},
   "outputs": [],
   "source": [
    "print(f\"Time elapsed: {t2 - t1}\")\n",
    "t1 = time.time()"
   ]
  },
  {
   "cell_type": "code",
   "execution_count": null,
   "id": "d9eb7ab0-1894-4bb4-ac5c-7aebfb627b5c",
   "metadata": {},
   "outputs": [],
   "source": [
    "# w2val = west2[\"Rad\"].isel(t=3, x=500, y=500).values\n",
    "# t2 = time.time()\n",
    "# print(w2val)\n",
    "# print(f\"Time elapsed: {t2 - t1}\")"
   ]
  }
 ],
 "metadata": {
  "kernelspec": {
   "display_name": "Python 3 (ipykernel)",
   "language": "python",
   "name": "python3"
  },
  "language_info": {
   "codemirror_mode": {
    "name": "ipython",
    "version": 3
   },
   "file_extension": ".py",
   "mimetype": "text/x-python",
   "name": "python",
   "nbconvert_exporter": "python",
   "pygments_lexer": "ipython3",
   "version": "3.9.12"
  }
 },
 "nbformat": 4,
 "nbformat_minor": 5
}
